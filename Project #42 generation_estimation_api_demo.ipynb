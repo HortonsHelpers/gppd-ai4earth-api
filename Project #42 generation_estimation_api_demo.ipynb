{
 "cells": [
  {
   "cell_type": "code",
   "execution_count": 19,
   "metadata": {},
   "outputs": [],
   "source": [
    "import requests\n",
    "import json"
   ]
  },
  {
   "cell_type": "code",
   "execution_count": 20,
   "metadata": {},
   "outputs": [],
   "source": [
    "base_url = 'http://ai4egppdgenapi.eastus.azurecontainer.io:1212/v1/my_api/tasker/'\n",
    "api_url = base_url + 'generation_estimation'"
   ]
  },
  {
   "cell_type": "code",
   "execution_count": 21,
   "metadata": {},
   "outputs": [],
   "source": [
    "def call_my_api(pay_load):\n",
    "    try:\n",
    "        pay_load = json.dumps(pay_load)\n",
    "        r = requests.post(api_url, data=pay_load)\n",
    "        \n",
    "        if r.ok:\n",
    "            task_id = r.text.split('TaskId: ')[1]\n",
    "            return task_id\n",
    "        else:\n",
    "            return None\n",
    "    \n",
    "    except Exception as e:\n",
    "        print('Exception running API: {}'.format(e))\n",
    "\n",
    "        \n",
    "        \n",
    "def check_my_task(task_id):\n",
    "    task_url = base_url + 'task/' + task_id\n",
    "    try:\n",
    "        r = requests.get(base_url + 'task/' + task_id)\n",
    "        if r.ok:\n",
    "            return r.text\n",
    "        else:\n",
    "            return None\n",
    "    except Exception as e:\n",
    "        print('Exception getting status for task {0}: {1}'.format(task_id,e))"
   ]
  },
  {
   "cell_type": "code",
   "execution_count": 25,
   "metadata": {},
   "outputs": [],
   "source": [
    "payload = {1:{'fuel_type':'Wind',\n",
    "              'capacity_mw':25,\n",
    "              'estimating_year':2012,\n",
    "              'commissioning_year':2008,\n",
    "              'country':'United States of America',\n",
    "              'lat':39.563,\n",
    "              'lon':-89.3129},\n",
    "           \n",
    "          2:{'fuel_type':'Solar',\n",
    "              'capacity_mw':20,\n",
    "              'estimating_year':2015,\n",
    "              'commissioning_year':2010,\n",
    "              'country':'United States of America',\n",
    "              'lat':41,\n",
    "              'lon':-98.767},\n",
    "           \n",
    "          3:{'fuel_type':'Hydro',\n",
    "              'capacity_mw':459.3,\n",
    "              'estimating_year':2013,\n",
    "              'country':'China',\n",
    "              'lat':35.104,\n",
    "              'lon':111.9041},\n",
    "           \n",
    "          4:{ 'fuel_type':'Ga',\n",
    "              'capacity_mw':220,\n",
    "              'estimating_year':2017,\n",
    "              'commissioning_year':2014,\n",
    "              'turbine_type':'CCGT',\n",
    "              'country':'India'}}"
   ]
  },
  {
   "cell_type": "code",
   "execution_count": 26,
   "metadata": {},
   "outputs": [
    {
     "name": "stdout",
     "output_type": "stream",
     "text": [
      "5126\n"
     ]
    }
   ],
   "source": [
    "tid = call_my_api(payload)\n",
    "print(tid)"
   ]
  },
  {
   "cell_type": "code",
   "execution_count": 28,
   "metadata": {},
   "outputs": [
    {
     "data": {
      "text/plain": [
       "'{\"uuid\": 5126, \"status\": \"Task failed - Fuel_type_not_found.\\\\nAvailable fuel types are Wind, Solar, Hydro, Gas.\", \"timestamp\": \"2019-12-05 19:19:46\", \"endpoint\": \"uri\"}\\n'"
      ]
     },
     "execution_count": 28,
     "metadata": {},
     "output_type": "execute_result"
    }
   ],
   "source": [
    "check_my_task(tid)"
   ]
  },
  {
   "cell_type": "code",
   "execution_count": null,
   "metadata": {},
   "outputs": [],
   "source": []
  }
 ],
 "metadata": {
  "kernelspec": {
   "display_name": "Python 3",
   "language": "python",
   "name": "python3"
  },
  "language_info": {
   "codemirror_mode": {
    "name": "ipython",
    "version": 3
   },
   "file_extension": ".py",
   "mimetype": "text/x-python",
   "name": "python",
   "nbconvert_exporter": "python",
   "pygments_lexer": "ipython3",
   "version": "3.7.3"
  }
 },
 "nbformat": 4,
 "nbformat_minor": 2
}
