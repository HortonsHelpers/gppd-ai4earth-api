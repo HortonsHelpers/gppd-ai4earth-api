{
 "cells": [
  {
   "cell_type": "code",
   "execution_count": 1,
   "metadata": {},
   "outputs": [
    {
     "name": "stderr",
     "output_type": "stream",
     "text": [
      "C:\\Users\\terry.yin\\AppData\\Local\\Continuum\\anaconda3\\lib\\site-packages\\sklearn\\utils\\__init__.py:4: DeprecationWarning: Using or importing the ABCs from 'collections' instead of from 'collections.abc' is deprecated, and in 3.8 it will stop working\n",
      "  from collections import Sequence\n"
     ]
    }
   ],
   "source": [
    "import sys\n",
    "sys.path.append('C:\\\\wri_work\\\\ai4earth_modules')\n",
    "import gppd_ai4earth.gppd_gen as gen"
   ]
  },
  {
   "cell_type": "code",
   "execution_count": 3,
   "metadata": {},
   "outputs": [],
   "source": [
    "estimator = gen.model_runner.Estimator()"
   ]
  },
  {
   "cell_type": "code",
   "execution_count": 54,
   "metadata": {},
   "outputs": [
    {
     "data": {
      "text/plain": [
       "0.3298087750274079"
      ]
     },
     "execution_count": 54,
     "metadata": {},
     "output_type": "execute_result"
    }
   ],
   "source": [
    "estimator.estimates(fuel_type = 'Wind', capacity_mw = 25, estimating_year = 2016, commissioning_year = 2012, country = 'India',turbine_type = 'CCGT',lat = 35.4189, lon = -80.0917)"
   ]
  },
  {
   "cell_type": "code",
   "execution_count": 4,
   "metadata": {},
   "outputs": [
    {
     "name": "stdout",
     "output_type": "stream",
     "text": [
      "In func estimates: parameter check\n",
      "In func estimates: feature_transformation\n",
      "In func feature transformation\n",
      "In func get_or_load_natural_resources_getter\n",
      "In func get_measurements_processor\n",
      "In func estimates: load model\n",
      "In func estimates: predict\n",
      "prediction: 0.2762293457193119\n"
     ]
    },
    {
     "name": "stderr",
     "output_type": "stream",
     "text": [
      "C:\\Users\\terry.yin\\AppData\\Local\\Continuum\\anaconda3\\lib\\site-packages\\sklearn\\ensemble\\weight_boosting.py:29: DeprecationWarning: numpy.core.umath_tests is an internal NumPy module and should not be imported. It will be removed in a future NumPy release.\n",
      "  from numpy.core.umath_tests import inner1d\n"
     ]
    },
    {
     "data": {
      "text/plain": [
       "0.2762293457193119"
      ]
     },
     "execution_count": 4,
     "metadata": {},
     "output_type": "execute_result"
    }
   ],
   "source": [
    "param_dict = {'fuel_type':'Solar',\n",
    "              'capacity_mw':50,\n",
    "              'estimating_year':2016,\n",
    "              'commissioning_year':2012,\n",
    "              'country':'United States of America',\n",
    "              'lat':23,\n",
    "              'lon':-110}\n",
    "estimator.estimates(**param_dict)"
   ]
  },
  {
   "cell_type": "code",
   "execution_count": null,
   "metadata": {},
   "outputs": [],
   "source": [
    "estimator.cf_getter.retrieve_capacity_factor(2016, 'United States of America', 'Solar')"
   ]
  },
  {
   "cell_type": "code",
   "execution_count": 8,
   "metadata": {},
   "outputs": [
    {
     "data": {
      "text/plain": [
       "4"
      ]
     },
     "execution_count": 8,
     "metadata": {},
     "output_type": "execute_result"
    }
   ],
   "source": [
    "estimator.get_age(2016,2012)"
   ]
  },
  {
   "cell_type": "code",
   "execution_count": 9,
   "metadata": {},
   "outputs": [
    {
     "name": "stdout",
     "output_type": "stream",
     "text": [
      "In func get_or_load_natural_resources_getter\n"
     ]
    }
   ],
   "source": [
    "aggregator = estimator.get_or_load_natural_resources_getter('Solar')"
   ]
  },
  {
   "cell_type": "code",
   "execution_count": 11,
   "metadata": {},
   "outputs": [
    {
     "name": "stderr",
     "output_type": "stream",
     "text": [
      "C:\\wri_work\\aiforearth(follow_MLADS_spring_2019)\\AIforEarth-API-Development\\Examples\\lab1-1-inputs_and_outputs_with_module(proceeding)\\my_api\\gppd_ai4earth\\gppd_gen\\measurements_aggregator.py:74: RuntimeWarning: divide by zero encountered in true_divide\n",
      "  idw_numerator = sum(values / (distances**P))\n",
      "C:\\wri_work\\aiforearth(follow_MLADS_spring_2019)\\AIforEarth-API-Development\\Examples\\lab1-1-inputs_and_outputs_with_module(proceeding)\\my_api\\gppd_ai4earth\\gppd_gen\\measurements_aggregator.py:75: RuntimeWarning: divide by zero encountered in true_divide\n",
      "  idw_denominator = sum(1 / (distances**P))\n",
      "C:\\wri_work\\aiforearth(follow_MLADS_spring_2019)\\AIforEarth-API-Development\\Examples\\lab1-1-inputs_and_outputs_with_module(proceeding)\\my_api\\gppd_ai4earth\\gppd_gen\\measurements_aggregator.py:76: RuntimeWarning: invalid value encountered in double_scalars\n",
      "  idw_value = idw_numerator / idw_denominator\n"
     ]
    },
    {
     "data": {
      "text/plain": [
       "{'SWGNT': nan, 'TS': nan}"
      ]
     },
     "execution_count": 11,
     "metadata": {},
     "output_type": "execute_result"
    }
   ],
   "source": [
    "aggregator.agg_measurements(2016, 23, -110)"
   ]
  },
  {
   "cell_type": "code",
   "execution_count": 18,
   "metadata": {},
   "outputs": [
    {
     "data": {
      "text/plain": [
       "{'SWGNT': nan, 'TS': nan}"
      ]
     },
     "execution_count": 18,
     "metadata": {},
     "output_type": "execute_result"
    }
   ],
   "source": [
    "estimator.natural_resources_getters['Solar'].agg_measurements(2016, 35, -100)"
   ]
  },
  {
   "cell_type": "code",
   "execution_count": 15,
   "metadata": {},
   "outputs": [
    {
     "data": {
      "text/plain": [
       "[[0.5, (227, 112), (23.5, -110.0)],\n",
       " [0.8003905296791061, (227, 113), (23.5, -109.375)],\n",
       " [0.8003905296791061, (227, 111), (23.5, -110.625)],\n",
       " [0.5, (225, 112), (22.5, -110.0)],\n",
       " [0.8003905296791061, (225, 113), (22.5, -109.375)],\n",
       " [0.8003905296791061, (225, 111), (22.5, -110.625)],\n",
       " [0.0, (226, 112), (23.0, -110.0)],\n",
       " [0.625, (226, 113), (23.0, -109.375)],\n",
       " [0.625, (226, 111), (23.0, -110.625)]]"
      ]
     },
     "execution_count": 15,
     "metadata": {},
     "output_type": "execute_result"
    }
   ],
   "source": [
    "aggregator.get_distance_dict(23, -110)"
   ]
  },
  {
   "cell_type": "code",
   "execution_count": 2,
   "metadata": {},
   "outputs": [
    {
     "name": "stderr",
     "output_type": "stream",
     "text": [
      "C:\\Users\\terry.yin\\AppData\\Local\\Continuum\\anaconda3\\lib\\site-packages\\sklearn\\utils\\__init__.py:4: DeprecationWarning: Using or importing the ABCs from 'collections' instead of from 'collections.abc' is deprecated, and in 3.8 it will stop working\n",
      "  from collections import Sequence\n",
      "C:\\Users\\terry.yin\\AppData\\Local\\Continuum\\anaconda3\\lib\\site-packages\\sklearn\\model_selection\\_split.py:18: DeprecationWarning: Using or importing the ABCs from 'collections' instead of from 'collections.abc' is deprecated, and in 3.8 it will stop working\n",
      "  from collections import Iterable\n"
     ]
    }
   ],
   "source": [
    "import gppd_ai4earth.gppd_gen as gen"
   ]
  },
  {
   "cell_type": "code",
   "execution_count": 1,
   "metadata": {},
   "outputs": [],
   "source": [
    "import sys\n",
    "sys.path.append('C:\\\\wri_work\\\\aiforearth(follow_MLADS_spring_2019)\\\\AIforEarth-API-Development\\\\Examples\\\\lab1-1-inputs_and_outputs_with_module(proceeding)\\\\my_api')"
   ]
  },
  {
   "cell_type": "code",
   "execution_count": 51,
   "metadata": {},
   "outputs": [],
   "source": [
    "import geopandas as gpd\n",
    "import pandas as pd\n",
    "import numpy as np"
   ]
  },
  {
   "cell_type": "code",
   "execution_count": 75,
   "metadata": {},
   "outputs": [],
   "source": [
    "import xarray as xr\n",
    "import salem\n",
    "import rasterio"
   ]
  },
  {
   "cell_type": "code",
   "execution_count": null,
   "metadata": {},
   "outputs": [],
   "source": [
    "sample_shape = gpd.read_file('source_files/HydroBasins/hybas_na_lev01-12_v1c/hybas_na_lev12_v1c.shp')"
   ]
  },
  {
   "cell_type": "code",
   "execution_count": 3,
   "metadata": {},
   "outputs": [],
   "source": [
    "bd = gen.geo_utils.BasinDelineator()"
   ]
  },
  {
   "cell_type": "code",
   "execution_count": 4,
   "metadata": {},
   "outputs": [
    {
     "name": "stdout",
     "output_type": "stream",
     "text": [
      "check existance\n",
      "af\n",
      "ar\n",
      "as\n",
      "au\n",
      "eu\n",
      "gr\n",
      "na\n",
      "sa\n",
      "si\n",
      "target polygon\n",
      "rank distance\n",
      "check if the point is in a polygon\n",
      "get drainage area\n",
      "bfs\n"
     ]
    }
   ],
   "source": [
    "sample_basins = bd.delineate_basin(40, -110)"
   ]
  },
  {
   "cell_type": "code",
   "execution_count": null,
   "metadata": {},
   "outputs": [],
   "source": []
  },
  {
   "cell_type": "code",
   "execution_count": 9,
   "metadata": {},
   "outputs": [
    {
     "data": {
      "text/plain": [
       "array([1120000010, 1120000020, 1120000030, ..., 3120034030, 3120034040,\n",
       "       3120034050], dtype=int64)"
      ]
     },
     "execution_count": 9,
     "metadata": {},
     "output_type": "execute_result"
    }
   ],
   "source": [
    "bd.geodf.loc[bd.geodf['NEXT_DOWN']==False,'HYBAS_ID'].values"
   ]
  },
  {
   "cell_type": "code",
   "execution_count": 11,
   "metadata": {},
   "outputs": [
    {
     "data": {
      "text/plain": [
       "0                   0\n",
       "1                   0\n",
       "2          1120000020\n",
       "3          1121694330\n",
       "4                   0\n",
       "5                   0\n",
       "6                   0\n",
       "7                   0\n",
       "8          1120000060\n",
       "9                   0\n",
       "10                  0\n",
       "11         1120000080\n",
       "12         1121697610\n",
       "13         1121697610\n",
       "14         1120169980\n",
       "15         1120169980\n",
       "16                  0\n",
       "17                  0\n",
       "18         1120000100\n",
       "19         1120000100\n",
       "20         1120173620\n",
       "21         1120173620\n",
       "22         1120174070\n",
       "23         1120174070\n",
       "24         1120174420\n",
       "25         1120173880\n",
       "26         1120174410\n",
       "27         1120173870\n",
       "28         1120173870\n",
       "29         1120172860\n",
       "              ...    \n",
       "1034053    3120663890\n",
       "1034054             0\n",
       "1034055    3120496490\n",
       "1034056             0\n",
       "1034057             0\n",
       "1034058    3120496490\n",
       "1034059    3120511230\n",
       "1034060             0\n",
       "1034061    3120728640\n",
       "1034062             0\n",
       "1034063             0\n",
       "1034064    3120713960\n",
       "1034065             0\n",
       "1034066    3120578280\n",
       "1034067    3120703750\n",
       "1034068             0\n",
       "1034069    3120496490\n",
       "1034070    3120481940\n",
       "1034071    3120496490\n",
       "1034072             0\n",
       "1034073             0\n",
       "1034074    3120697710\n",
       "1034075    3120712070\n",
       "1034076             0\n",
       "1034077             0\n",
       "1034078    3120481940\n",
       "1034079             0\n",
       "1034080             0\n",
       "1034081             0\n",
       "1034082             0\n",
       "Name: NEXT_DOWN, Length: 1034083, dtype: int64"
      ]
     },
     "execution_count": 11,
     "metadata": {},
     "output_type": "execute_result"
    }
   ],
   "source": [
    "bd.geodf['NEXT_DOWN']"
   ]
  },
  {
   "cell_type": "code",
   "execution_count": null,
   "metadata": {},
   "outputs": [],
   "source": []
  }
 ],
 "metadata": {
  "kernelspec": {
   "display_name": "Python 3",
   "language": "python",
   "name": "python3"
  },
  "language_info": {
   "codemirror_mode": {
    "name": "ipython",
    "version": 3
   },
   "file_extension": ".py",
   "mimetype": "text/x-python",
   "name": "python",
   "nbconvert_exporter": "python",
   "pygments_lexer": "ipython3",
   "version": "3.7.3"
  }
 },
 "nbformat": 4,
 "nbformat_minor": 2
}
