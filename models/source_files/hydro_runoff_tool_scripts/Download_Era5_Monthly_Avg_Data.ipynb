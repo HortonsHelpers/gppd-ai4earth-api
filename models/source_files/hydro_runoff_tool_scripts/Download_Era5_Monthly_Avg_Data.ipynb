{
 "cells": [
  {
   "cell_type": "code",
   "execution_count": 1,
   "metadata": {},
   "outputs": [],
   "source": [
    "import numpy as np\n",
    "import matplotlib.pyplot as plt"
   ]
  },
  {
   "cell_type": "code",
   "execution_count": 2,
   "metadata": {},
   "outputs": [],
   "source": [
    "import argparse\n",
    "import cdsapi\n",
    "from datetime import date, datetime, time, timedelta\n",
    "import netCDF4\n",
    "import urllib3\n",
    "import os\n",
    "urllib3.disable_warnings(urllib3.exceptions.InsecureRequestWarning)"
   ]
  },
  {
   "cell_type": "code",
   "execution_count": 15,
   "metadata": {},
   "outputs": [],
   "source": [
    "SOURCE_PATH = os.path.abspath(os.path.join(os.getcwd(),os.pardir))"
   ]
  },
  {
   "cell_type": "code",
   "execution_count": null,
   "metadata": {},
   "outputs": [],
   "source": [
    "URL = 'https://cds.climate.copernicus.eu/api/v2'\n",
    "KEY = '6681:96d8ee73-e18c-4f40-a996-82a16404411d' # Should try to request your own key\n",
    "FORMAT = 'netcdf'\n",
    "VARIABLES = ['evaporation',\n",
    "             'mean_evaporation_rate',\n",
    "             'mean_runoff_rate',\n",
    "             'mean_sub_surface_runoff_rate',\n",
    "             'mean_surface_runoff_rate',\n",
    "             'mean_total_precipitation_rate',\n",
    "             'runoff',\n",
    "             'sub_surface_runoff',\n",
    "             'surface_runoff',\n",
    "             'total_precipitation']\n",
    "\n",
    "RAW_DATA_PATH = os.path.join(SOURCE_PATH,'hydro_runoff')\n",
    "\n",
    "if not os.path.exists(RAW_DATA_PATH):\n",
    "    os.mkdir(RAW_DATA_PATH)\n",
    "\n",
    "\n",
    "def run_downloader(year):\n",
    "    \n",
    "    sub_data_path = os.path.join(RAW_DATA_PATH, str(year))\n",
    "    \n",
    "    if not os.path.exists(sub_data_path):\n",
    "        os.mkdir(sub_data_path)\n",
    "    \n",
    "    c = cdsapi.Client(url = URL, key = KEY)\n",
    "        \n",
    "    str_year = str(year)\n",
    "\n",
    "    filename = str(year)+ '_monthly_avg' + '.nc'\n",
    "    filepath = os.path.join(sub_data_path,filename)\n",
    "\n",
    "    c.retrieve(\n",
    "        'reanalysis-era5-single-levels-monthly-means',\n",
    "        {\n",
    "            'product_type':'monthly_averaged_reanalysis',\n",
    "            'format':FORMAT,\n",
    "            'variable':VARIABLES,\n",
    "            'year':str_year,\n",
    "            'month':[\n",
    "                '01','02','03',\n",
    "                '04','05','06',\n",
    "                '07','08','09',\n",
    "                '10','11','12'\n",
    "            ],\n",
    "            'time':'00:00'\n",
    "        },\n",
    "        filepath)"
   ]
  },
  {
   "cell_type": "code",
   "execution_count": 3,
   "metadata": {},
   "outputs": [
    {
     "name": "stderr",
     "output_type": "stream",
     "text": [
      "2019-05-08 09:54:36,666 INFO Sending request to https://cds.climate.copernicus.eu/api/v2/resources/reanalysis-era5-single-levels-monthly-means\n",
      "2019-05-08 09:54:37,077 INFO Request is queued\n",
      "2019-05-08 09:54:45,596 INFO Request is running\n",
      "2019-05-08 09:55:09,946 INFO Request is completed\n",
      "2019-05-08 09:55:09,947 INFO Downloading http://136.156.132.210/cache-compute-0005/cache/data4/adaptor.mars.internal-1557323684.9630241-7863-10-97a3a9d7-526e-4e66-9581-6d58c8d81599.nc to C:\\wri_work\\gppd-generation-estimation\\estimation models\\operating_hours_method\\Renewables\\hydro\\Era5_monthly_raw_data\\Era5_monthly_raw_data\\2013\\2013_monthly_avg.nc (237.6M)\n",
      "2019-05-08 09:55:52,122 INFO Download rate 5.6M/s\n",
      "2019-05-08 09:55:52,403 INFO Sending request to https://cds.climate.copernicus.eu/api/v2/resources/reanalysis-era5-single-levels-monthly-means\n",
      "2019-05-08 09:55:52,819 INFO Request is queued\n",
      "2019-05-08 09:56:14,186 INFO Request is running\n",
      "2019-05-08 09:56:42,855 INFO Request is completed\n",
      "2019-05-08 09:56:42,856 INFO Downloading http://136.156.132.210/cache-compute-0005/cache/data9/adaptor.mars.internal-1557323773.0721455-14740-9-6a92f47d-f17b-4d8b-839c-455eec7e0a54.nc to C:\\wri_work\\gppd-generation-estimation\\estimation models\\operating_hours_method\\Renewables\\hydro\\Era5_monthly_raw_data\\Era5_monthly_raw_data\\2014\\2014_monthly_avg.nc (237.6M)\n",
      "2019-05-08 09:57:12,046 INFO Download rate 8.1M/s\n",
      "2019-05-08 09:57:12,153 INFO Sending request to https://cds.climate.copernicus.eu/api/v2/resources/reanalysis-era5-single-levels-monthly-means\n",
      "2019-05-08 09:57:12,558 INFO Request is queued\n",
      "2019-05-08 09:58:02,573 INFO Request is running\n",
      "2019-05-08 09:58:28,297 INFO Request is completed\n",
      "2019-05-08 09:58:28,298 INFO Downloading http://136.156.132.235/cache-compute-0006/cache/data2/adaptor.mars.internal-1557323874.777697-4336-5-a10a0d7f-8633-4d50-88d1-7702909efb2a.nc to C:\\wri_work\\gppd-generation-estimation\\estimation models\\operating_hours_method\\Renewables\\hydro\\Era5_monthly_raw_data\\Era5_monthly_raw_data\\2015\\2015_monthly_avg.nc (237.6M)\n",
      "2019-05-08 09:58:48,638 INFO Download rate 11.7M/s\n",
      "2019-05-08 09:58:48,791 INFO Sending request to https://cds.climate.copernicus.eu/api/v2/resources/reanalysis-era5-single-levels-monthly-means\n",
      "2019-05-08 09:58:49,253 INFO Request is completed\n",
      "2019-05-08 09:58:49,254 INFO Downloading http://136.156.132.210/cache-compute-0005/cache/data9/adaptor.mars.internal-1557111748.8840744-28460-17-8adc957b-c610-427f-acc2-2d631bbacc52.nc to C:\\wri_work\\gppd-generation-estimation\\estimation models\\operating_hours_method\\Renewables\\hydro\\Era5_monthly_raw_data\\Era5_monthly_raw_data\\2016\\2016_monthly_avg.nc (237.6M)\n",
      "2019-05-08 09:59:25,679 INFO Download rate 6.5M/s\n",
      "2019-05-08 09:59:25,785 INFO Sending request to https://cds.climate.copernicus.eu/api/v2/resources/reanalysis-era5-single-levels-monthly-means\n",
      "2019-05-08 09:59:26,171 INFO Request is queued\n",
      "2019-05-08 09:59:39,833 INFO Request is running\n",
      "2019-05-08 10:00:16,189 INFO Request is completed\n",
      "2019-05-08 10:00:16,191 INFO Downloading http://136.156.132.105/cache-compute-0000/cache/data2/adaptor.mars.internal-1557323977.2462652-13365-3-cb49e10b-c6fd-4a95-bdfb-fee2a8e13548.nc to C:\\wri_work\\gppd-generation-estimation\\estimation models\\operating_hours_method\\Renewables\\hydro\\Era5_monthly_raw_data\\Era5_monthly_raw_data\\2017\\2017_monthly_avg.nc (237.6M)\n",
      "2019-05-08 10:00:36,575 INFO Download rate 11.7M/s\n"
     ]
    }
   ],
   "source": [
    "for year in range(2013,2018):\n",
    "    run_downloader(year)"
   ]
  }
 ],
 "metadata": {
  "kernelspec": {
   "display_name": "Python 3",
   "language": "python",
   "name": "python3"
  },
  "language_info": {
   "codemirror_mode": {
    "name": "ipython",
    "version": 3
   },
   "file_extension": ".py",
   "mimetype": "text/x-python",
   "name": "python",
   "nbconvert_exporter": "python",
   "pygments_lexer": "ipython3",
   "version": "3.7.3"
  }
 },
 "nbformat": 4,
 "nbformat_minor": 2
}
