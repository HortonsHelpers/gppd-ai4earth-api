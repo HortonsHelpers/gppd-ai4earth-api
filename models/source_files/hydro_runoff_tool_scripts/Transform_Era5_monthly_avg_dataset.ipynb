{
 "cells": [
  {
   "cell_type": "code",
   "execution_count": 1,
   "metadata": {},
   "outputs": [],
   "source": [
    "from netCDF4 import Dataset\n",
    "import numpy as np\n",
    "import os"
   ]
  },
  {
   "cell_type": "code",
   "execution_count": 7,
   "metadata": {},
   "outputs": [],
   "source": [
    "SOURCE_PATH = os.path.abspath(os.path.join(os.getcwd(),os.pardir))\n",
    "RAW_DATA_PATH = os.path.join(SOURCE_PATH,'hydro_runoff')\n",
    "YEARS = [int(y) for y in os.listdir(RAW_DATA_PATH) if not y.startswith('.')]"
   ]
  },
  {
   "cell_type": "code",
   "execution_count": 33,
   "metadata": {},
   "outputs": [],
   "source": [
    "for year in YEARS:\n",
    "    original = Dataset('{0}/{0}_monthly_avg.nc'.format(year))\n",
    "    updated_file_path = os.path.join(RAW_DATA_PATH,str(year),str(year) + '_monthly_avg_transformed.nc')\n",
    "    new = Dataset(updated_file_path,'w')\n",
    "    \n",
    "    new.createDimension('lon',1440)\n",
    "    new.createDimension('lat',721)\n",
    "    new.createDimension('time',12)\n",
    "    \n",
    "    new.createVariable('lon',np.float64,('lon',))\n",
    "    new.createVariable('lat',np.float64,('lat',))\n",
    "    new.createVariable('time',np.float64,('time',))\n",
    "    \n",
    "    new.variables['lat'].setncattr('standard_name','latitude')\n",
    "    new.variables['lat'].setncattr('long_name','latitude')\n",
    "    new.variables['lat'].setncattr('units','degrees_north')\n",
    "    new.variables['lat'].setncattr('axis','Y')\n",
    "    new.variables['lat'][:] = np.arange(-90,90.25,0.25)\n",
    "\n",
    "    new.variables['lon'].setncattr('standard_name','longitude')\n",
    "    new.variables['lon'].setncattr('long_name','longitude')\n",
    "    new.variables['lon'].setncattr('units','degrees_east')\n",
    "    new.variables['lon'].setncattr('axis','X')\n",
    "    new.variables['lon'][:] = np.arange(-180,180,0.25)\n",
    "\n",
    "    new.variables['time'].setncattr('standard_name','time')\n",
    "    new.variables['time'].setncattr('long_name','time')\n",
    "    new.variables['time'].setncattr('units','hours since 1900-01-01 00:00:00.0')\n",
    "    new.variables['time'].setncattr('calendar','gregorian')\n",
    "    new.variables['time'][:] = np.array(original.variables['time'][:])\n",
    "    \n",
    "    for var in ['sro','ssro']:\n",
    "        print(var)\n",
    "        new.createVariable(var,np.float64,('time','lat','lon'))\n",
    "        new.variables[var].setncattr('standard_name',original.variables[var].long_name)\n",
    "        new.variables[var].setncattr('long_name',original.variables[var].long_name)\n",
    "        new.variables[var].setncattr('units',original.variables[var].units)\n",
    "        arr = np.array(original.variables[var][:])\n",
    "        new_arr = np.flip(np.concatenate((arr[:,:,720:],arr[:,:,:720]),axis=2),axis=1)\n",
    "        new.variables[var][:] = new_arr\n",
    "    \n",
    "    new.close()"
   ]
  },
  {
   "cell_type": "code",
   "execution_count": null,
   "metadata": {},
   "outputs": [],
   "source": []
  }
 ],
 "metadata": {
  "kernelspec": {
   "display_name": "Python 3",
   "language": "python",
   "name": "python3"
  },
  "language_info": {
   "codemirror_mode": {
    "name": "ipython",
    "version": 3
   },
   "file_extension": ".py",
   "mimetype": "text/x-python",
   "name": "python",
   "nbconvert_exporter": "python",
   "pygments_lexer": "ipython3",
   "version": "3.7.3"
  }
 },
 "nbformat": 4,
 "nbformat_minor": 2
}
