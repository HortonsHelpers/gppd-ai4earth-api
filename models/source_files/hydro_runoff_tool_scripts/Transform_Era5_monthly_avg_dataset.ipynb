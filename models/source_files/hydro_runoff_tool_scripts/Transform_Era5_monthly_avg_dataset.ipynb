{
 "cells": [
  {
   "cell_type": "code",
   "execution_count": 1,
   "metadata": {},
   "outputs": [],
   "source": [
    "from netCDF4 import Dataset\n",
    "import numpy as np\n",
    "import os"
   ]
  },
  {
   "cell_type": "code",
   "execution_count": 33,
   "metadata": {},
   "outputs": [],
   "source": [
    "year = 2013"
   ]
  },
  {
   "cell_type": "code",
   "execution_count": 34,
   "metadata": {},
   "outputs": [],
   "source": [
    "original = Dataset('{0}/{0}_monthly_avg.nc'.format(year))"
   ]
  },
  {
   "cell_type": "code",
   "execution_count": 35,
   "metadata": {},
   "outputs": [],
   "source": [
    "os.mkdir('{0}/updated_version/'.format(year))\n",
    "new = Dataset('{0}/updated_version/{0}_monthly_avg_transformed.nc'.format(year),'w')"
   ]
  },
  {
   "cell_type": "code",
   "execution_count": 36,
   "metadata": {},
   "outputs": [
    {
     "data": {
      "text/plain": [
       "<class 'netCDF4._netCDF4.Dimension'>: name = 'time', size = 12"
      ]
     },
     "execution_count": 36,
     "metadata": {},
     "output_type": "execute_result"
    }
   ],
   "source": [
    "new.createDimension('lon',1440)\n",
    "new.createDimension('lat',721)\n",
    "new.createDimension('time',12)"
   ]
  },
  {
   "cell_type": "code",
   "execution_count": 37,
   "metadata": {},
   "outputs": [
    {
     "data": {
      "text/plain": [
       "<class 'netCDF4._netCDF4.Variable'>\n",
       "float64 time(time)\n",
       "unlimited dimensions: \n",
       "current shape = (12,)\n",
       "filling on, default _FillValue of 9.969209968386869e+36 used"
      ]
     },
     "execution_count": 37,
     "metadata": {},
     "output_type": "execute_result"
    }
   ],
   "source": [
    "new.createVariable('lon',np.float64,('lon',))\n",
    "new.createVariable('lat',np.float64,('lat',))\n",
    "new.createVariable('time',np.float64,('time',))"
   ]
  },
  {
   "cell_type": "code",
   "execution_count": 38,
   "metadata": {},
   "outputs": [],
   "source": [
    "new.variables['lat'].setncattr('standard_name','latitude')\n",
    "new.variables['lat'].setncattr('long_name','latitude')\n",
    "new.variables['lat'].setncattr('units','degrees_north')\n",
    "new.variables['lat'].setncattr('axis','Y')\n",
    "new.variables['lat'][:] = np.arange(-90,90.25,0.25)\n",
    "\n",
    "new.variables['lon'].setncattr('standard_name','longitude')\n",
    "new.variables['lon'].setncattr('long_name','longitude')\n",
    "new.variables['lon'].setncattr('units','degrees_east')\n",
    "new.variables['lon'].setncattr('axis','X')\n",
    "new.variables['lon'][:] = np.arange(-180,180,0.25)\n",
    "\n",
    "new.variables['time'].setncattr('standard_name','time')\n",
    "new.variables['time'].setncattr('long_name','time')\n",
    "new.variables['time'].setncattr('units','hours since 1900-01-01 00:00:00.0')\n",
    "new.variables['time'].setncattr('calendar','gregorian')\n",
    "new.variables['time'][:] = np.array(original.variables['time'][:])"
   ]
  },
  {
   "cell_type": "code",
   "execution_count": 39,
   "metadata": {},
   "outputs": [
    {
     "name": "stdout",
     "output_type": "stream",
     "text": [
      "sro\n",
      "ssro\n"
     ]
    }
   ],
   "source": [
    "for var in ['sro','ssro']:\n",
    "    print(var)\n",
    "    new.createVariable(var,np.float64,('time','lat','lon'))\n",
    "    new.variables[var].setncattr('standard_name',original.variables[var].long_name)\n",
    "    new.variables[var].setncattr('long_name',original.variables[var].long_name)\n",
    "    new.variables[var].setncattr('units',original.variables[var].units)\n",
    "    arr = np.array(original.variables[var][:])\n",
    "    new_arr = np.flip(np.concatenate((arr[:,:,720:],arr[:,:,:720]),axis=2),axis=1)\n",
    "    new.variables[var][:] = new_arr\n",
    "    "
   ]
  },
  {
   "cell_type": "code",
   "execution_count": 40,
   "metadata": {},
   "outputs": [],
   "source": [
    "new.close()"
   ]
  },
  {
   "cell_type": "code",
   "execution_count": null,
   "metadata": {},
   "outputs": [],
   "source": []
  }
 ],
 "metadata": {
  "kernelspec": {
   "display_name": "Python 3",
   "language": "python",
   "name": "python3"
  },
  "language_info": {
   "codemirror_mode": {
    "name": "ipython",
    "version": 3
   },
   "file_extension": ".py",
   "mimetype": "text/x-python",
   "name": "python",
   "nbconvert_exporter": "python",
   "pygments_lexer": "ipython3",
   "version": "3.7.3"
  }
 },
 "nbformat": 4,
 "nbformat_minor": 2
}
