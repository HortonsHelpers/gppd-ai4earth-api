{
 "cells": [
  {
   "cell_type": "code",
   "execution_count": 1,
   "metadata": {},
   "outputs": [
    {
     "name": "stderr",
     "output_type": "stream",
     "text": [
      "C:\\Users\\terry.yin\\AppData\\Local\\Continuum\\anaconda3\\lib\\site-packages\\sklearn\\utils\\__init__.py:4: DeprecationWarning: Using or importing the ABCs from 'collections' instead of from 'collections.abc' is deprecated, and in 3.8 it will stop working\n",
      "  from collections import Sequence\n"
     ]
    }
   ],
   "source": [
    "import sys\n",
    "sys.path.append('C:\\\\wri_work\\\\ai4earth_modules')\n",
    "import gppd_ai4earth.gppd_gen as gen"
   ]
  },
  {
   "cell_type": "code",
   "execution_count": 3,
   "metadata": {},
   "outputs": [],
   "source": [
    "estimator = gen.model_runner.Estimator()"
   ]
  },
  {
   "cell_type": "code",
   "execution_count": 54,
   "metadata": {},
   "outputs": [
    {
     "data": {
      "text/plain": [
       "0.3298087750274079"
      ]
     },
     "execution_count": 54,
     "metadata": {},
     "output_type": "execute_result"
    }
   ],
   "source": [
    "estimator.estimates(fuel_type = 'Wind', capacity_mw = 25, estimating_year = 2016, commissioning_year = 2012, country = 'India',turbine_type = 'CCGT',lat = 35.4189, lon = -80.0917)"
   ]
  },
  {
   "cell_type": "code",
   "execution_count": 4,
   "metadata": {},
   "outputs": [
    {
     "name": "stdout",
     "output_type": "stream",
     "text": [
      "In func estimates: parameter check\n",
      "In func estimates: feature_transformation\n",
      "In func feature transformation\n",
      "In func get_or_load_natural_resources_getter\n",
      "In func get_measurements_processor\n",
      "In func estimates: load model\n",
      "In func estimates: predict\n",
      "prediction: 0.2762293457193119\n"
     ]
    },
    {
     "name": "stderr",
     "output_type": "stream",
     "text": [
      "C:\\Users\\terry.yin\\AppData\\Local\\Continuum\\anaconda3\\lib\\site-packages\\sklearn\\ensemble\\weight_boosting.py:29: DeprecationWarning: numpy.core.umath_tests is an internal NumPy module and should not be imported. It will be removed in a future NumPy release.\n",
      "  from numpy.core.umath_tests import inner1d\n"
     ]
    },
    {
     "data": {
      "text/plain": [
       "0.2762293457193119"
      ]
     },
     "execution_count": 4,
     "metadata": {},
     "output_type": "execute_result"
    }
   ],
   "source": [
    "param_dict = {'fuel_type':'Solar',\n",
    "              'capacity_mw':50,\n",
    "              'estimating_year':2016,\n",
    "              'commissioning_year':2012,\n",
    "              'country':'United States of America',\n",
    "              'lat':23,\n",
    "              'lon':-110}\n",
    "estimator.estimates(**param_dict)"
   ]
  },
  {
   "cell_type": "code",
   "execution_count": null,
   "metadata": {},
   "outputs": [],
   "source": [
    "estimator.cf_getter.retrieve_capacity_factor(2016, 'United States of America', 'Solar')"
   ]
  },
  {
   "cell_type": "code",
   "execution_count": 8,
   "metadata": {},
   "outputs": [
    {
     "data": {
      "text/plain": [
       "4"
      ]
     },
     "execution_count": 8,
     "metadata": {},
     "output_type": "execute_result"
    }
   ],
   "source": [
    "estimator.get_age(2016,2012)"
   ]
  },
  {
   "cell_type": "code",
   "execution_count": 9,
   "metadata": {},
   "outputs": [
    {
     "name": "stdout",
     "output_type": "stream",
     "text": [
      "In func get_or_load_natural_resources_getter\n"
     ]
    }
   ],
   "source": [
    "aggregator = estimator.get_or_load_natural_resources_getter('Solar')"
   ]
  },
  {
   "cell_type": "code",
   "execution_count": 11,
   "metadata": {},
   "outputs": [
    {
     "name": "stderr",
     "output_type": "stream",
     "text": [
      "C:\\wri_work\\aiforearth(follow_MLADS_spring_2019)\\AIforEarth-API-Development\\Examples\\lab1-1-inputs_and_outputs_with_module(proceeding)\\my_api\\gppd_ai4earth\\gppd_gen\\measurements_aggregator.py:74: RuntimeWarning: divide by zero encountered in true_divide\n",
      "  idw_numerator = sum(values / (distances**P))\n",
      "C:\\wri_work\\aiforearth(follow_MLADS_spring_2019)\\AIforEarth-API-Development\\Examples\\lab1-1-inputs_and_outputs_with_module(proceeding)\\my_api\\gppd_ai4earth\\gppd_gen\\measurements_aggregator.py:75: RuntimeWarning: divide by zero encountered in true_divide\n",
      "  idw_denominator = sum(1 / (distances**P))\n",
      "C:\\wri_work\\aiforearth(follow_MLADS_spring_2019)\\AIforEarth-API-Development\\Examples\\lab1-1-inputs_and_outputs_with_module(proceeding)\\my_api\\gppd_ai4earth\\gppd_gen\\measurements_aggregator.py:76: RuntimeWarning: invalid value encountered in double_scalars\n",
      "  idw_value = idw_numerator / idw_denominator\n"
     ]
    },
    {
     "data": {
      "text/plain": [
       "{'SWGNT': nan, 'TS': nan}"
      ]
     },
     "execution_count": 11,
     "metadata": {},
     "output_type": "execute_result"
    }
   ],
   "source": [
    "aggregator.agg_measurements(2016, 23, -110)"
   ]
  },
  {
   "cell_type": "code",
   "execution_count": 18,
   "metadata": {},
   "outputs": [
    {
     "data": {
      "text/plain": [
       "{'SWGNT': nan, 'TS': nan}"
      ]
     },
     "execution_count": 18,
     "metadata": {},
     "output_type": "execute_result"
    }
   ],
   "source": [
    "estimator.natural_resources_getters['Solar'].agg_measurements(2016, 35, -100)"
   ]
  },
  {
   "cell_type": "code",
   "execution_count": 15,
   "metadata": {},
   "outputs": [
    {
     "data": {
      "text/plain": [
       "[[0.5, (227, 112), (23.5, -110.0)],\n",
       " [0.8003905296791061, (227, 113), (23.5, -109.375)],\n",
       " [0.8003905296791061, (227, 111), (23.5, -110.625)],\n",
       " [0.5, (225, 112), (22.5, -110.0)],\n",
       " [0.8003905296791061, (225, 113), (22.5, -109.375)],\n",
       " [0.8003905296791061, (225, 111), (22.5, -110.625)],\n",
       " [0.0, (226, 112), (23.0, -110.0)],\n",
       " [0.625, (226, 113), (23.0, -109.375)],\n",
       " [0.625, (226, 111), (23.0, -110.625)]]"
      ]
     },
     "execution_count": 15,
     "metadata": {},
     "output_type": "execute_result"
    }
   ],
   "source": [
    "aggregator.get_distance_dict(23, -110)"
   ]
  },
  {
   "cell_type": "code",
   "execution_count": 2,
   "metadata": {},
   "outputs": [
    {
     "name": "stderr",
     "output_type": "stream",
     "text": [
      "C:\\Users\\terry.yin\\AppData\\Local\\Continuum\\anaconda3\\lib\\site-packages\\sklearn\\utils\\__init__.py:4: DeprecationWarning: Using or importing the ABCs from 'collections' instead of from 'collections.abc' is deprecated, and in 3.8 it will stop working\n",
      "  from collections import Sequence\n",
      "C:\\Users\\terry.yin\\AppData\\Local\\Continuum\\anaconda3\\lib\\site-packages\\sklearn\\model_selection\\_split.py:18: DeprecationWarning: Using or importing the ABCs from 'collections' instead of from 'collections.abc' is deprecated, and in 3.8 it will stop working\n",
      "  from collections import Iterable\n"
     ]
    }
   ],
   "source": [
    "import gppd_ai4earth.gppd_gen as gen"
   ]
  },
  {
   "cell_type": "code",
   "execution_count": 1,
   "metadata": {},
   "outputs": [],
   "source": [
    "import sys\n",
    "sys.path.append('C:\\\\wri_work\\\\aiforearth(follow_MLADS_spring_2019)\\\\AIforEarth-API-Development\\\\Examples\\\\lab1-1-inputs_and_outputs_with_module(proceeding)\\\\my_api')"
   ]
  },
  {
   "cell_type": "code",
   "execution_count": 51,
   "metadata": {},
   "outputs": [],
   "source": [
    "import geopandas as gpd\n",
    "import pandas as pd\n",
    "import numpy as np"
   ]
  },
  {
   "cell_type": "code",
   "execution_count": 75,
   "metadata": {},
   "outputs": [],
   "source": [
    "import xarray as xr\n",
    "import salem\n",
    "import rasterio"
   ]
  },
  {
   "cell_type": "code",
   "execution_count": null,
   "metadata": {},
   "outputs": [],
   "source": [
    "sample_shape = gpd.read_file('source_files/HydroBasins/hybas_na_lev01-12_v1c/hybas_na_lev12_v1c.shp')"
   ]
  },
  {
   "cell_type": "code",
   "execution_count": 126,
   "metadata": {},
   "outputs": [],
   "source": [
    "bd = gen.geo_utils.BasinDelineator()"
   ]
  },
  {
   "cell_type": "code",
   "execution_count": 182,
   "metadata": {},
   "outputs": [],
   "source": [
    "sample_basins = bd.delineate_basin(42.73, -77.91)"
   ]
  },
  {
   "cell_type": "code",
   "execution_count": 183,
   "metadata": {},
   "outputs": [
    {
     "data": {
      "text/html": [
       "<div>\n",
       "<style scoped>\n",
       "    .dataframe tbody tr th:only-of-type {\n",
       "        vertical-align: middle;\n",
       "    }\n",
       "\n",
       "    .dataframe tbody tr th {\n",
       "        vertical-align: top;\n",
       "    }\n",
       "\n",
       "    .dataframe thead th {\n",
       "        text-align: right;\n",
       "    }\n",
       "</style>\n",
       "<table border=\"1\" class=\"dataframe\">\n",
       "  <thead>\n",
       "    <tr style=\"text-align: right;\">\n",
       "      <th></th>\n",
       "      <th>HYBAS_ID</th>\n",
       "      <th>NEXT_DOWN</th>\n",
       "      <th>NEXT_SINK</th>\n",
       "      <th>MAIN_BAS</th>\n",
       "      <th>DIST_SINK</th>\n",
       "      <th>DIST_MAIN</th>\n",
       "      <th>SUB_AREA</th>\n",
       "      <th>UP_AREA</th>\n",
       "      <th>PFAF_ID</th>\n",
       "      <th>ENDO</th>\n",
       "      <th>COAST</th>\n",
       "      <th>ORDER</th>\n",
       "      <th>SORT</th>\n",
       "      <th>geometry</th>\n",
       "      <th>centroid</th>\n",
       "      <th>centroid_lat</th>\n",
       "      <th>centroid_lon</th>\n",
       "      <th>temp_distance</th>\n",
       "    </tr>\n",
       "  </thead>\n",
       "  <tbody>\n",
       "    <tr>\n",
       "      <th>730526</th>\n",
       "      <td>7120471320</td>\n",
       "      <td>7120470660</td>\n",
       "      <td>7120034520</td>\n",
       "      <td>7120034520</td>\n",
       "      <td>819.3</td>\n",
       "      <td>819.3</td>\n",
       "      <td>170.2</td>\n",
       "      <td>2813.8</td>\n",
       "      <td>725552091100</td>\n",
       "      <td>0</td>\n",
       "      <td>0</td>\n",
       "      <td>2</td>\n",
       "      <td>54532</td>\n",
       "      <td>POLYGON ((-77.97499999999998 42.65000000000003...</td>\n",
       "      <td>(-77.96688709317876, 42.70414688232634)</td>\n",
       "      <td>42.7041</td>\n",
       "      <td>-77.9669</td>\n",
       "      <td>0.062517</td>\n",
       "    </tr>\n",
       "    <tr>\n",
       "      <th>730583</th>\n",
       "      <td>7121043470</td>\n",
       "      <td>7120471320</td>\n",
       "      <td>7120034520</td>\n",
       "      <td>7120034520</td>\n",
       "      <td>837.6</td>\n",
       "      <td>837.6</td>\n",
       "      <td>173.3</td>\n",
       "      <td>2643.6</td>\n",
       "      <td>725552091200</td>\n",
       "      <td>0</td>\n",
       "      <td>0</td>\n",
       "      <td>2</td>\n",
       "      <td>54589</td>\n",
       "      <td>POLYGON ((-78.06249999999997 42.50000000000002...</td>\n",
       "      <td>(-78.03415885004235, 42.59100152390964)</td>\n",
       "      <td>42.5910</td>\n",
       "      <td>-78.0342</td>\n",
       "      <td>0.186405</td>\n",
       "    </tr>\n",
       "    <tr>\n",
       "      <th>730673</th>\n",
       "      <td>7120478140</td>\n",
       "      <td>7121043470</td>\n",
       "      <td>7120034520</td>\n",
       "      <td>7120034520</td>\n",
       "      <td>863.5</td>\n",
       "      <td>863.5</td>\n",
       "      <td>8.0</td>\n",
       "      <td>291.2</td>\n",
       "      <td>725552092100</td>\n",
       "      <td>0</td>\n",
       "      <td>0</td>\n",
       "      <td>3</td>\n",
       "      <td>54679</td>\n",
       "      <td>POLYGON ((-78.09166666666663 42.51250000000002...</td>\n",
       "      <td>(-78.08106413650714, 42.508481111968116)</td>\n",
       "      <td>42.5085</td>\n",
       "      <td>-78.0811</td>\n",
       "      <td>0.279888</td>\n",
       "    </tr>\n",
       "    <tr>\n",
       "      <th>730674</th>\n",
       "      <td>7120478250</td>\n",
       "      <td>7121043470</td>\n",
       "      <td>7120034520</td>\n",
       "      <td>7120034520</td>\n",
       "      <td>863.6</td>\n",
       "      <td>863.6</td>\n",
       "      <td>24.0</td>\n",
       "      <td>2179.2</td>\n",
       "      <td>725552093100</td>\n",
       "      <td>0</td>\n",
       "      <td>0</td>\n",
       "      <td>2</td>\n",
       "      <td>54680</td>\n",
       "      <td>POLYGON ((-78.09999999999997 42.47083333333335...</td>\n",
       "      <td>(-78.06704376986217, 42.47653102066332)</td>\n",
       "      <td>42.4765</td>\n",
       "      <td>-78.0670</td>\n",
       "      <td>0.298180</td>\n",
       "    </tr>\n",
       "    <tr>\n",
       "      <th>730686</th>\n",
       "      <td>7120477800</td>\n",
       "      <td>7120478140</td>\n",
       "      <td>7120034520</td>\n",
       "      <td>7120034520</td>\n",
       "      <td>866.9</td>\n",
       "      <td>866.9</td>\n",
       "      <td>154.5</td>\n",
       "      <td>154.6</td>\n",
       "      <td>725552092200</td>\n",
       "      <td>0</td>\n",
       "      <td>0</td>\n",
       "      <td>4</td>\n",
       "      <td>54692</td>\n",
       "      <td>POLYGON ((-78.29166666666663 42.62083333333336...</td>\n",
       "      <td>(-78.20919719528459, 42.5717116698355)</td>\n",
       "      <td>42.5717</td>\n",
       "      <td>-78.2092</td>\n",
       "      <td>0.338496</td>\n",
       "    </tr>\n",
       "    <tr>\n",
       "      <th>730687</th>\n",
       "      <td>7120477690</td>\n",
       "      <td>7120478140</td>\n",
       "      <td>7120034520</td>\n",
       "      <td>7120034520</td>\n",
       "      <td>867.0</td>\n",
       "      <td>867.0</td>\n",
       "      <td>128.5</td>\n",
       "      <td>128.7</td>\n",
       "      <td>725552092300</td>\n",
       "      <td>0</td>\n",
       "      <td>0</td>\n",
       "      <td>3</td>\n",
       "      <td>54693</td>\n",
       "      <td>POLYGON ((-78.09166666666663 42.51250000000002...</td>\n",
       "      <td>(-78.17070338865949, 42.634811743799936)</td>\n",
       "      <td>42.6348</td>\n",
       "      <td>-78.1707</td>\n",
       "      <td>0.277538</td>\n",
       "    </tr>\n",
       "    <tr>\n",
       "      <th>730689</th>\n",
       "      <td>7120478940</td>\n",
       "      <td>7120478250</td>\n",
       "      <td>7120034520</td>\n",
       "      <td>7120034520</td>\n",
       "      <td>868.9</td>\n",
       "      <td>868.9</td>\n",
       "      <td>6.3</td>\n",
       "      <td>2051.5</td>\n",
       "      <td>725552093300</td>\n",
       "      <td>0</td>\n",
       "      <td>0</td>\n",
       "      <td>2</td>\n",
       "      <td>54695</td>\n",
       "      <td>POLYGON ((-78.09999999999997 42.45416666666669...</td>\n",
       "      <td>(-78.11266749757101, 42.47955325774618)</td>\n",
       "      <td>42.4796</td>\n",
       "      <td>-78.1127</td>\n",
       "      <td>0.322161</td>\n",
       "    </tr>\n",
       "    <tr>\n",
       "      <th>730690</th>\n",
       "      <td>7120479130</td>\n",
       "      <td>7120478250</td>\n",
       "      <td>7120034520</td>\n",
       "      <td>7120034520</td>\n",
       "      <td>869.0</td>\n",
       "      <td>869.0</td>\n",
       "      <td>103.6</td>\n",
       "      <td>103.6</td>\n",
       "      <td>725552093200</td>\n",
       "      <td>0</td>\n",
       "      <td>0</td>\n",
       "      <td>3</td>\n",
       "      <td>54696</td>\n",
       "      <td>POLYGON ((-78.09999999999997 42.46250000000002...</td>\n",
       "      <td>(-78.01676398342867, 42.44055878606282)</td>\n",
       "      <td>42.4406</td>\n",
       "      <td>-78.0168</td>\n",
       "      <td>0.308478</td>\n",
       "    </tr>\n",
       "    <tr>\n",
       "      <th>730691</th>\n",
       "      <td>7120479120</td>\n",
       "      <td>7120478940</td>\n",
       "      <td>7120034520</td>\n",
       "      <td>7120034520</td>\n",
       "      <td>870.1</td>\n",
       "      <td>870.1</td>\n",
       "      <td>108.4</td>\n",
       "      <td>108.4</td>\n",
       "      <td>725552093400</td>\n",
       "      <td>0</td>\n",
       "      <td>0</td>\n",
       "      <td>3</td>\n",
       "      <td>54697</td>\n",
       "      <td>POLYGON ((-78.29166666666663 42.43750000000002...</td>\n",
       "      <td>(-78.21384208529282, 42.49371355557924)</td>\n",
       "      <td>42.4937</td>\n",
       "      <td>-78.2138</td>\n",
       "      <td>0.384879</td>\n",
       "    </tr>\n",
       "    <tr>\n",
       "      <th>730692</th>\n",
       "      <td>7120479260</td>\n",
       "      <td>7120478940</td>\n",
       "      <td>7120034520</td>\n",
       "      <td>7120034520</td>\n",
       "      <td>870.2</td>\n",
       "      <td>870.2</td>\n",
       "      <td>74.1</td>\n",
       "      <td>1936.9</td>\n",
       "      <td>725552093500</td>\n",
       "      <td>0</td>\n",
       "      <td>0</td>\n",
       "      <td>2</td>\n",
       "      <td>54698</td>\n",
       "      <td>POLYGON ((-78.14999999999996 42.38750000000002...</td>\n",
       "      <td>(-78.15241840157285, 42.42654930710424)</td>\n",
       "      <td>42.4265</td>\n",
       "      <td>-78.1524</td>\n",
       "      <td>0.388420</td>\n",
       "    </tr>\n",
       "    <tr>\n",
       "      <th>730717</th>\n",
       "      <td>7120481380</td>\n",
       "      <td>7120479260</td>\n",
       "      <td>7120034520</td>\n",
       "      <td>7120034520</td>\n",
       "      <td>881.8</td>\n",
       "      <td>881.8</td>\n",
       "      <td>167.8</td>\n",
       "      <td>167.9</td>\n",
       "      <td>725552094000</td>\n",
       "      <td>0</td>\n",
       "      <td>0</td>\n",
       "      <td>3</td>\n",
       "      <td>54723</td>\n",
       "      <td>POLYGON ((-78.3833333333333 42.35000000000002,...</td>\n",
       "      <td>(-78.26851256360018, 42.377341652044926)</td>\n",
       "      <td>42.3773</td>\n",
       "      <td>-78.2685</td>\n",
       "      <td>0.502911</td>\n",
       "    </tr>\n",
       "    <tr>\n",
       "      <th>730718</th>\n",
       "      <td>7120481500</td>\n",
       "      <td>7120479260</td>\n",
       "      <td>7120034520</td>\n",
       "      <td>7120034520</td>\n",
       "      <td>881.8</td>\n",
       "      <td>881.8</td>\n",
       "      <td>212.0</td>\n",
       "      <td>1694.8</td>\n",
       "      <td>725552095000</td>\n",
       "      <td>0</td>\n",
       "      <td>0</td>\n",
       "      <td>2</td>\n",
       "      <td>54724</td>\n",
       "      <td>POLYGON ((-78.14999999999996 42.38333333333335...</td>\n",
       "      <td>(-78.13965004707336, 42.31825974006922)</td>\n",
       "      <td>42.3183</td>\n",
       "      <td>-78.1397</td>\n",
       "      <td>0.471444</td>\n",
       "    </tr>\n",
       "    <tr>\n",
       "      <th>730751</th>\n",
       "      <td>7120483570</td>\n",
       "      <td>7120481500</td>\n",
       "      <td>7120034520</td>\n",
       "      <td>7120034520</td>\n",
       "      <td>896.0</td>\n",
       "      <td>896.0</td>\n",
       "      <td>234.0</td>\n",
       "      <td>234.1</td>\n",
       "      <td>725552096000</td>\n",
       "      <td>0</td>\n",
       "      <td>0</td>\n",
       "      <td>3</td>\n",
       "      <td>54757</td>\n",
       "      <td>POLYGON ((-78.05833333333329 42.28750000000002...</td>\n",
       "      <td>(-77.95141406817156, 42.35339453213703)</td>\n",
       "      <td>42.3534</td>\n",
       "      <td>-77.9514</td>\n",
       "      <td>0.378869</td>\n",
       "    </tr>\n",
       "    <tr>\n",
       "      <th>730753</th>\n",
       "      <td>7120483690</td>\n",
       "      <td>7120481500</td>\n",
       "      <td>7120034520</td>\n",
       "      <td>7120034520</td>\n",
       "      <td>896.3</td>\n",
       "      <td>896.3</td>\n",
       "      <td>15.4</td>\n",
       "      <td>1248.8</td>\n",
       "      <td>725552097100</td>\n",
       "      <td>0</td>\n",
       "      <td>0</td>\n",
       "      <td>2</td>\n",
       "      <td>54759</td>\n",
       "      <td>POLYGON ((-78.05416666666663 42.25416666666669...</td>\n",
       "      <td>(-78.0536062044068, 42.267473633201675)</td>\n",
       "      <td>42.2675</td>\n",
       "      <td>-78.0536</td>\n",
       "      <td>0.484280</td>\n",
       "    </tr>\n",
       "    <tr>\n",
       "      <th>730766</th>\n",
       "      <td>7120484460</td>\n",
       "      <td>7120483690</td>\n",
       "      <td>7120034520</td>\n",
       "      <td>7120034520</td>\n",
       "      <td>901.0</td>\n",
       "      <td>901.0</td>\n",
       "      <td>157.5</td>\n",
       "      <td>157.5</td>\n",
       "      <td>725552097200</td>\n",
       "      <td>0</td>\n",
       "      <td>0</td>\n",
       "      <td>3</td>\n",
       "      <td>54772</td>\n",
       "      <td>POLYGON ((-78.09166666666664 42.10833333333336...</td>\n",
       "      <td>(-78.13563204532534, 42.19036004959362)</td>\n",
       "      <td>42.1904</td>\n",
       "      <td>-78.1356</td>\n",
       "      <td>0.584862</td>\n",
       "    </tr>\n",
       "    <tr>\n",
       "      <th>730767</th>\n",
       "      <td>7120484600</td>\n",
       "      <td>7120483690</td>\n",
       "      <td>7120034520</td>\n",
       "      <td>7120034520</td>\n",
       "      <td>901.2</td>\n",
       "      <td>901.2</td>\n",
       "      <td>167.6</td>\n",
       "      <td>1075.8</td>\n",
       "      <td>725552097310</td>\n",
       "      <td>0</td>\n",
       "      <td>0</td>\n",
       "      <td>2</td>\n",
       "      <td>54773</td>\n",
       "      <td>POLYGON ((-78.04999999999997 42.24583333333335...</td>\n",
       "      <td>(-77.98225326174757, 42.224790531916426)</td>\n",
       "      <td>42.2248</td>\n",
       "      <td>-77.9823</td>\n",
       "      <td>0.510347</td>\n",
       "    </tr>\n",
       "    <tr>\n",
       "      <th>730787</th>\n",
       "      <td>7121048650</td>\n",
       "      <td>7120484600</td>\n",
       "      <td>7120034520</td>\n",
       "      <td>7120034520</td>\n",
       "      <td>912.2</td>\n",
       "      <td>912.2</td>\n",
       "      <td>173.1</td>\n",
       "      <td>908.4</td>\n",
       "      <td>725552097320</td>\n",
       "      <td>0</td>\n",
       "      <td>0</td>\n",
       "      <td>2</td>\n",
       "      <td>54793</td>\n",
       "      <td>POLYGON ((-77.93749999999997 42.11250000000002...</td>\n",
       "      <td>(-77.97310543886108, 42.146535956089814)</td>\n",
       "      <td>42.1465</td>\n",
       "      <td>-77.9731</td>\n",
       "      <td>0.586902</td>\n",
       "    </tr>\n",
       "    <tr>\n",
       "      <th>730801</th>\n",
       "      <td>7120487730</td>\n",
       "      <td>7121048650</td>\n",
       "      <td>7120034520</td>\n",
       "      <td>7120034520</td>\n",
       "      <td>921.1</td>\n",
       "      <td>921.1</td>\n",
       "      <td>127.4</td>\n",
       "      <td>546.5</td>\n",
       "      <td>725552099110</td>\n",
       "      <td>0</td>\n",
       "      <td>0</td>\n",
       "      <td>2</td>\n",
       "      <td>54807</td>\n",
       "      <td>POLYGON ((-77.94166666666665 42.10833333333336...</td>\n",
       "      <td>(-77.8810928609488, 42.08108329621136)</td>\n",
       "      <td>42.0811</td>\n",
       "      <td>-77.8811</td>\n",
       "      <td>0.649543</td>\n",
       "    </tr>\n",
       "    <tr>\n",
       "      <th>730802</th>\n",
       "      <td>7120487570</td>\n",
       "      <td>7121048650</td>\n",
       "      <td>7120034520</td>\n",
       "      <td>7120034520</td>\n",
       "      <td>921.1</td>\n",
       "      <td>921.1</td>\n",
       "      <td>188.7</td>\n",
       "      <td>188.7</td>\n",
       "      <td>725552098000</td>\n",
       "      <td>0</td>\n",
       "      <td>0</td>\n",
       "      <td>3</td>\n",
       "      <td>54808</td>\n",
       "      <td>POLYGON ((-77.71666666666664 42.1041666666667,...</td>\n",
       "      <td>(-77.81066474425398, 42.15984445867231)</td>\n",
       "      <td>42.1598</td>\n",
       "      <td>-77.8107</td>\n",
       "      <td>0.578782</td>\n",
       "    </tr>\n",
       "    <tr>\n",
       "      <th>730818</th>\n",
       "      <td>7121050110</td>\n",
       "      <td>7120487730</td>\n",
       "      <td>7120034520</td>\n",
       "      <td>7120034520</td>\n",
       "      <td>928.9</td>\n",
       "      <td>928.9</td>\n",
       "      <td>136.9</td>\n",
       "      <td>418.9</td>\n",
       "      <td>725552099120</td>\n",
       "      <td>0</td>\n",
       "      <td>0</td>\n",
       "      <td>2</td>\n",
       "      <td>54824</td>\n",
       "      <td>POLYGON ((-77.87083333333331 41.87500000000001...</td>\n",
       "      <td>(-77.91030136880455, 41.980957178507744)</td>\n",
       "      <td>41.9810</td>\n",
       "      <td>-77.9103</td>\n",
       "      <td>0.749000</td>\n",
       "    </tr>\n",
       "    <tr>\n",
       "      <th>730829</th>\n",
       "      <td>7120490730</td>\n",
       "      <td>7121050110</td>\n",
       "      <td>7120034520</td>\n",
       "      <td>7120034520</td>\n",
       "      <td>938.0</td>\n",
       "      <td>938.0</td>\n",
       "      <td>124.6</td>\n",
       "      <td>124.6</td>\n",
       "      <td>725552099300</td>\n",
       "      <td>0</td>\n",
       "      <td>0</td>\n",
       "      <td>2</td>\n",
       "      <td>54835</td>\n",
       "      <td>POLYGON ((-77.75416666666665 41.9791666666667,...</td>\n",
       "      <td>(-77.76069220468366, 42.03493513466852)</td>\n",
       "      <td>42.0349</td>\n",
       "      <td>-77.7607</td>\n",
       "      <td>0.710953</td>\n",
       "    </tr>\n",
       "    <tr>\n",
       "      <th>730830</th>\n",
       "      <td>7120491020</td>\n",
       "      <td>7121050110</td>\n",
       "      <td>7120034520</td>\n",
       "      <td>7120034520</td>\n",
       "      <td>938.0</td>\n",
       "      <td>938.0</td>\n",
       "      <td>157.4</td>\n",
       "      <td>157.5</td>\n",
       "      <td>725552099200</td>\n",
       "      <td>0</td>\n",
       "      <td>0</td>\n",
       "      <td>3</td>\n",
       "      <td>54836</td>\n",
       "      <td>POLYGON ((-77.84166666666664 41.84583333333337...</td>\n",
       "      <td>(-77.80838229336781, 41.929077696221775)</td>\n",
       "      <td>41.9291</td>\n",
       "      <td>-77.8084</td>\n",
       "      <td>0.807319</td>\n",
       "    </tr>\n",
       "  </tbody>\n",
       "</table>\n",
       "</div>"
      ],
      "text/plain": [
       "          HYBAS_ID   NEXT_DOWN   NEXT_SINK    MAIN_BAS  DIST_SINK  DIST_MAIN  \\\n",
       "730526  7120471320  7120470660  7120034520  7120034520      819.3      819.3   \n",
       "730583  7121043470  7120471320  7120034520  7120034520      837.6      837.6   \n",
       "730673  7120478140  7121043470  7120034520  7120034520      863.5      863.5   \n",
       "730674  7120478250  7121043470  7120034520  7120034520      863.6      863.6   \n",
       "730686  7120477800  7120478140  7120034520  7120034520      866.9      866.9   \n",
       "730687  7120477690  7120478140  7120034520  7120034520      867.0      867.0   \n",
       "730689  7120478940  7120478250  7120034520  7120034520      868.9      868.9   \n",
       "730690  7120479130  7120478250  7120034520  7120034520      869.0      869.0   \n",
       "730691  7120479120  7120478940  7120034520  7120034520      870.1      870.1   \n",
       "730692  7120479260  7120478940  7120034520  7120034520      870.2      870.2   \n",
       "730717  7120481380  7120479260  7120034520  7120034520      881.8      881.8   \n",
       "730718  7120481500  7120479260  7120034520  7120034520      881.8      881.8   \n",
       "730751  7120483570  7120481500  7120034520  7120034520      896.0      896.0   \n",
       "730753  7120483690  7120481500  7120034520  7120034520      896.3      896.3   \n",
       "730766  7120484460  7120483690  7120034520  7120034520      901.0      901.0   \n",
       "730767  7120484600  7120483690  7120034520  7120034520      901.2      901.2   \n",
       "730787  7121048650  7120484600  7120034520  7120034520      912.2      912.2   \n",
       "730801  7120487730  7121048650  7120034520  7120034520      921.1      921.1   \n",
       "730802  7120487570  7121048650  7120034520  7120034520      921.1      921.1   \n",
       "730818  7121050110  7120487730  7120034520  7120034520      928.9      928.9   \n",
       "730829  7120490730  7121050110  7120034520  7120034520      938.0      938.0   \n",
       "730830  7120491020  7121050110  7120034520  7120034520      938.0      938.0   \n",
       "\n",
       "        SUB_AREA  UP_AREA       PFAF_ID  ENDO  COAST  ORDER   SORT  \\\n",
       "730526     170.2   2813.8  725552091100     0      0      2  54532   \n",
       "730583     173.3   2643.6  725552091200     0      0      2  54589   \n",
       "730673       8.0    291.2  725552092100     0      0      3  54679   \n",
       "730674      24.0   2179.2  725552093100     0      0      2  54680   \n",
       "730686     154.5    154.6  725552092200     0      0      4  54692   \n",
       "730687     128.5    128.7  725552092300     0      0      3  54693   \n",
       "730689       6.3   2051.5  725552093300     0      0      2  54695   \n",
       "730690     103.6    103.6  725552093200     0      0      3  54696   \n",
       "730691     108.4    108.4  725552093400     0      0      3  54697   \n",
       "730692      74.1   1936.9  725552093500     0      0      2  54698   \n",
       "730717     167.8    167.9  725552094000     0      0      3  54723   \n",
       "730718     212.0   1694.8  725552095000     0      0      2  54724   \n",
       "730751     234.0    234.1  725552096000     0      0      3  54757   \n",
       "730753      15.4   1248.8  725552097100     0      0      2  54759   \n",
       "730766     157.5    157.5  725552097200     0      0      3  54772   \n",
       "730767     167.6   1075.8  725552097310     0      0      2  54773   \n",
       "730787     173.1    908.4  725552097320     0      0      2  54793   \n",
       "730801     127.4    546.5  725552099110     0      0      2  54807   \n",
       "730802     188.7    188.7  725552098000     0      0      3  54808   \n",
       "730818     136.9    418.9  725552099120     0      0      2  54824   \n",
       "730829     124.6    124.6  725552099300     0      0      2  54835   \n",
       "730830     157.4    157.5  725552099200     0      0      3  54836   \n",
       "\n",
       "                                                 geometry  \\\n",
       "730526  POLYGON ((-77.97499999999998 42.65000000000003...   \n",
       "730583  POLYGON ((-78.06249999999997 42.50000000000002...   \n",
       "730673  POLYGON ((-78.09166666666663 42.51250000000002...   \n",
       "730674  POLYGON ((-78.09999999999997 42.47083333333335...   \n",
       "730686  POLYGON ((-78.29166666666663 42.62083333333336...   \n",
       "730687  POLYGON ((-78.09166666666663 42.51250000000002...   \n",
       "730689  POLYGON ((-78.09999999999997 42.45416666666669...   \n",
       "730690  POLYGON ((-78.09999999999997 42.46250000000002...   \n",
       "730691  POLYGON ((-78.29166666666663 42.43750000000002...   \n",
       "730692  POLYGON ((-78.14999999999996 42.38750000000002...   \n",
       "730717  POLYGON ((-78.3833333333333 42.35000000000002,...   \n",
       "730718  POLYGON ((-78.14999999999996 42.38333333333335...   \n",
       "730751  POLYGON ((-78.05833333333329 42.28750000000002...   \n",
       "730753  POLYGON ((-78.05416666666663 42.25416666666669...   \n",
       "730766  POLYGON ((-78.09166666666664 42.10833333333336...   \n",
       "730767  POLYGON ((-78.04999999999997 42.24583333333335...   \n",
       "730787  POLYGON ((-77.93749999999997 42.11250000000002...   \n",
       "730801  POLYGON ((-77.94166666666665 42.10833333333336...   \n",
       "730802  POLYGON ((-77.71666666666664 42.1041666666667,...   \n",
       "730818  POLYGON ((-77.87083333333331 41.87500000000001...   \n",
       "730829  POLYGON ((-77.75416666666665 41.9791666666667,...   \n",
       "730830  POLYGON ((-77.84166666666664 41.84583333333337...   \n",
       "\n",
       "                                        centroid  centroid_lat  centroid_lon  \\\n",
       "730526   (-77.96688709317876, 42.70414688232634)       42.7041      -77.9669   \n",
       "730583   (-78.03415885004235, 42.59100152390964)       42.5910      -78.0342   \n",
       "730673  (-78.08106413650714, 42.508481111968116)       42.5085      -78.0811   \n",
       "730674   (-78.06704376986217, 42.47653102066332)       42.4765      -78.0670   \n",
       "730686    (-78.20919719528459, 42.5717116698355)       42.5717      -78.2092   \n",
       "730687  (-78.17070338865949, 42.634811743799936)       42.6348      -78.1707   \n",
       "730689   (-78.11266749757101, 42.47955325774618)       42.4796      -78.1127   \n",
       "730690   (-78.01676398342867, 42.44055878606282)       42.4406      -78.0168   \n",
       "730691   (-78.21384208529282, 42.49371355557924)       42.4937      -78.2138   \n",
       "730692   (-78.15241840157285, 42.42654930710424)       42.4265      -78.1524   \n",
       "730717  (-78.26851256360018, 42.377341652044926)       42.3773      -78.2685   \n",
       "730718   (-78.13965004707336, 42.31825974006922)       42.3183      -78.1397   \n",
       "730751   (-77.95141406817156, 42.35339453213703)       42.3534      -77.9514   \n",
       "730753   (-78.0536062044068, 42.267473633201675)       42.2675      -78.0536   \n",
       "730766   (-78.13563204532534, 42.19036004959362)       42.1904      -78.1356   \n",
       "730767  (-77.98225326174757, 42.224790531916426)       42.2248      -77.9823   \n",
       "730787  (-77.97310543886108, 42.146535956089814)       42.1465      -77.9731   \n",
       "730801    (-77.8810928609488, 42.08108329621136)       42.0811      -77.8811   \n",
       "730802   (-77.81066474425398, 42.15984445867231)       42.1598      -77.8107   \n",
       "730818  (-77.91030136880455, 41.980957178507744)       41.9810      -77.9103   \n",
       "730829   (-77.76069220468366, 42.03493513466852)       42.0349      -77.7607   \n",
       "730830  (-77.80838229336781, 41.929077696221775)       41.9291      -77.8084   \n",
       "\n",
       "        temp_distance  \n",
       "730526       0.062517  \n",
       "730583       0.186405  \n",
       "730673       0.279888  \n",
       "730674       0.298180  \n",
       "730686       0.338496  \n",
       "730687       0.277538  \n",
       "730689       0.322161  \n",
       "730690       0.308478  \n",
       "730691       0.384879  \n",
       "730692       0.388420  \n",
       "730717       0.502911  \n",
       "730718       0.471444  \n",
       "730751       0.378869  \n",
       "730753       0.484280  \n",
       "730766       0.584862  \n",
       "730767       0.510347  \n",
       "730787       0.586902  \n",
       "730801       0.649543  \n",
       "730802       0.578782  \n",
       "730818       0.749000  \n",
       "730829       0.710953  \n",
       "730830       0.807319  "
      ]
     },
     "execution_count": 183,
     "metadata": {},
     "output_type": "execute_result"
    }
   ],
   "source": [
    "sample_basins[0]"
   ]
  },
  {
   "cell_type": "code",
   "execution_count": 129,
   "metadata": {},
   "outputs": [],
   "source": [
    "# one_basin = sample_shape[sample_shape.index == 49524]"
   ]
  },
  {
   "cell_type": "code",
   "execution_count": 170,
   "metadata": {},
   "outputs": [],
   "source": [
    "sample_hydro_runoff = xarray.open_dataset('source_files/hydro_runoff/2016/2016_monthly_avg_transformed.nc')"
   ]
  },
  {
   "cell_type": "code",
   "execution_count": 184,
   "metadata": {},
   "outputs": [],
   "source": [
    "new_map = sample_hydro_runoff.salem.roi(shape = sample_basins[0])"
   ]
  },
  {
   "cell_type": "code",
   "execution_count": 185,
   "metadata": {},
   "outputs": [
    {
     "data": {
      "text/plain": [
       "4.0"
      ]
     },
     "execution_count": 185,
     "metadata": {},
     "output_type": "execute_result"
    }
   ],
   "source": [
    "np.sum(np.array(new_map['sro']) == np.array(new_map['sro']))/12"
   ]
  },
  {
   "cell_type": "code",
   "execution_count": 186,
   "metadata": {},
   "outputs": [
    {
     "data": {
      "text/plain": [
       "0.009828689601040587"
      ]
     },
     "execution_count": 186,
     "metadata": {},
     "output_type": "execute_result"
    }
   ],
   "source": [
    "np.nansum(new_map['sro'])"
   ]
  },
  {
   "cell_type": "code",
   "execution_count": 174,
   "metadata": {},
   "outputs": [
    {
     "data": {
      "text/plain": [
       "1159.0"
      ]
     },
     "execution_count": 174,
     "metadata": {},
     "output_type": "execute_result"
    }
   ],
   "source": [
    "13908/12"
   ]
  },
  {
   "cell_type": "code",
   "execution_count": 21,
   "metadata": {},
   "outputs": [],
   "source": [
    "hs = [3,5,2,3,0]\n",
    "j = [0 if h == 3 else h for h in hs]"
   ]
  },
  {
   "cell_type": "code",
   "execution_count": 22,
   "metadata": {},
   "outputs": [
    {
     "data": {
      "text/plain": [
       "[0, 5, 2, 0, 0]"
      ]
     },
     "execution_count": 22,
     "metadata": {},
     "output_type": "execute_result"
    }
   ],
   "source": [
    "j"
   ]
  },
  {
   "cell_type": "code",
   "execution_count": 92,
   "metadata": {},
   "outputs": [],
   "source": [
    "import geopandas\n",
    "from rasterio import features\n",
    "from affine import Affine"
   ]
  },
  {
   "cell_type": "code",
   "execution_count": 109,
   "metadata": {},
   "outputs": [],
   "source": [
    "def transform_from_latlon(lat, lon):\n",
    "    \"\"\" input 1D array of lat / lon and output an Affine transformation\n",
    "    \"\"\"\n",
    "    lat = np.asarray(lat)\n",
    "    lon = np.asarray(lon)\n",
    "    trans = Affine.translation(lon[0], lat[0])\n",
    "    scale = Affine.scale(lon[1] - lon[0], lat[1] - lat[0])\n",
    "    return trans * scale\n",
    "\n",
    "def rasterize(shapes, coords, latitude='latitude', longitude='longitude',\n",
    "              fill=np.nan, **kwargs):\n",
    "    \"\"\"Rasterize a list of (geometry, fill_value) tuples onto the given\n",
    "    xray coordinates. This only works for 1d latitude and longitude\n",
    "    arrays.\n",
    "\n",
    "    usage:\n",
    "    -----\n",
    "    1. read shapefile to geopandas.GeoDataFrame\n",
    "          `states = gpd.read_file(shp_dir+shp_file)`\n",
    "    2. encode the different shapefiles that capture those lat-lons as different\n",
    "        numbers i.e. 0.0, 1.0 ... and otherwise np.nan\n",
    "          `shapes = (zip(states.geometry, range(len(states))))`\n",
    "    3. Assign this to a new coord in your original xarray.DataArray\n",
    "          `ds['states'] = rasterize(shapes, ds.coords, longitude='X', latitude='Y')`\n",
    "\n",
    "    arguments:\n",
    "    ---------\n",
    "    : **kwargs (dict): passed to `rasterio.rasterize` function\n",
    "\n",
    "    attrs:\n",
    "    -----\n",
    "    :transform (affine.Affine): how to translate from latlon to ...?\n",
    "    :raster (numpy.ndarray): use rasterio.features.rasterize fill the values\n",
    "      outside the .shp file with np.nan\n",
    "    :spatial_coords (dict): dictionary of {\"X\":xr.DataArray, \"Y\":xr.DataArray()}\n",
    "      with \"X\", \"Y\" as keys, and xr.DataArray as values\n",
    "\n",
    "    returns:\n",
    "    -------\n",
    "    :(xr.DataArray): DataArray with `values` of nan for points outside shapefile\n",
    "      and coords `Y` = latitude, 'X' = longitude.\n",
    "\n",
    "\n",
    "    \"\"\"\n",
    "    transform = transform_from_latlon(coords[latitude], coords[longitude])\n",
    "    out_shape = (len(coords[latitude]), len(coords[longitude]))\n",
    "    raster = features.rasterize(shapes, out_shape=out_shape,\n",
    "                                fill=fill, transform=transform,\n",
    "                                dtype=float, **kwargs)\n",
    "    spatial_coords = {latitude: coords[latitude], longitude: coords[longitude]}\n",
    "    return xr.DataArray(raster, coords=spatial_coords, dims=(latitude, longitude))\n",
    "\n",
    "def add_shape_coord_from_data_array(xr_da, shp_gpd, coord_name):\n",
    "    \"\"\" Create a new coord for the xr_da indicating whether or not it \n",
    "         is inside the shapefile\n",
    "\n",
    "        Creates a new coord - \"coord_name\" which will have integer values\n",
    "         used to subset xr_da for plotting / analysis/\n",
    "\n",
    "        Usage:\n",
    "        -----\n",
    "        precip_da = add_shape_coord_from_data_array(precip_da, \"awash.shp\", \"awash\")\n",
    "        awash_da = precip_da.where(precip_da.awash==0, other=np.nan) \n",
    "    \"\"\"\n",
    "    # 1. read in shapefile\n",
    "#     shp_gpd = gpd.read_file(shp_path)\n",
    "\n",
    "    # 2. create a list of tuples (shapely.geometry, id)\n",
    "    #    this allows for many different polygons within a .shp file (e.g. States of US)\n",
    "    shapes = [(shape, n) for n, shape in enumerate(shp_gpd.geometry)]\n",
    "\n",
    "    # 3. create a new coord in the xr_da which will be set to the id in `shapes`\n",
    "    xr_da[coord_name] = rasterize(shapes, xr_da.coords, \n",
    "                               longitude='lon', latitude='lat')\n",
    "\n",
    "    return xr_da"
   ]
  },
  {
   "cell_type": "code",
   "execution_count": 187,
   "metadata": {},
   "outputs": [],
   "source": [
    "sample_hydro_runoff = add_shape_coord_from_data_array(sample_hydro_runoff, sample_basins[0]['geometry'], \"mask\")"
   ]
  },
  {
   "cell_type": "code",
   "execution_count": 188,
   "metadata": {},
   "outputs": [
    {
     "data": {
      "text/plain": [
       "4"
      ]
     },
     "execution_count": 188,
     "metadata": {},
     "output_type": "execute_result"
    }
   ],
   "source": [
    "np.sum(np.array(sample_hydro_runoff['mask']) == np.array(sample_hydro_runoff['mask']))"
   ]
  },
  {
   "cell_type": "code",
   "execution_count": 178,
   "metadata": {},
   "outputs": [],
   "source": [
    "# np.array(sample_hydro_runoff['mask'])[~np.isnan(np.array(sample_hydro_runoff['mask']))]"
   ]
  },
  {
   "cell_type": "code",
   "execution_count": 190,
   "metadata": {},
   "outputs": [],
   "source": [
    "masked_da = sample_hydro_runoff.where(sample_hydro_runoff.mask.notnull(), other=np.nan)"
   ]
  },
  {
   "cell_type": "code",
   "execution_count": 191,
   "metadata": {},
   "outputs": [
    {
     "data": {
      "text/plain": [
       "4.0"
      ]
     },
     "execution_count": 191,
     "metadata": {},
     "output_type": "execute_result"
    }
   ],
   "source": [
    "np.sum(np.array(masked_da['sro']) == np.array(masked_da['sro']))/12"
   ]
  },
  {
   "cell_type": "code",
   "execution_count": 192,
   "metadata": {},
   "outputs": [
    {
     "data": {
      "text/plain": [
       "0.008768895649126585"
      ]
     },
     "execution_count": 192,
     "metadata": {},
     "output_type": "execute_result"
    }
   ],
   "source": [
    "np.nansum(masked_da['sro'])"
   ]
  },
  {
   "cell_type": "code",
   "execution_count": 117,
   "metadata": {},
   "outputs": [
    {
     "data": {
      "text/plain": [
       "Affine(0.25, 0.0, -180.0,\n",
       "       0.0, 0.25, -90.0)"
      ]
     },
     "execution_count": 117,
     "metadata": {},
     "output_type": "execute_result"
    }
   ],
   "source": [
    "transform_from_latlon(sample_hydro_runoff['lat'],sample_hydro_runoff['lon'])"
   ]
  },
  {
   "cell_type": "code",
   "execution_count": 118,
   "metadata": {},
   "outputs": [
    {
     "data": {
      "text/plain": [
       "<xarray.DataArray 'lat' (lat: 721)>\n",
       "array([-90.  , -89.75, -89.5 , ...,  89.5 ,  89.75,  90.  ])\n",
       "Coordinates:\n",
       "  * lat      (lat) float64 -90.0 -89.75 -89.5 -89.25 ... 89.25 89.5 89.75 90.0\n",
       "Attributes:\n",
       "    standard_name:  latitude\n",
       "    long_name:      latitude\n",
       "    units:          degrees_north\n",
       "    axis:           Y"
      ]
     },
     "execution_count": 118,
     "metadata": {},
     "output_type": "execute_result"
    }
   ],
   "source": [
    "sample_hydro_runoff['lat']"
   ]
  },
  {
   "cell_type": "code",
   "execution_count": 122,
   "metadata": {},
   "outputs": [
    {
     "ename": "KeyError",
     "evalue": "49526",
     "output_type": "error",
     "traceback": [
      "\u001b[1;31m---------------------------------------------------------------------------\u001b[0m",
      "\u001b[1;31mKeyError\u001b[0m                                  Traceback (most recent call last)",
      "\u001b[1;32m<ipython-input-122-27b67166bb6f>\u001b[0m in \u001b[0;36m<module>\u001b[1;34m\u001b[0m\n\u001b[1;32m----> 1\u001b[1;33m \u001b[0mone_basin\u001b[0m\u001b[1;33m[\u001b[0m\u001b[1;34m'geometry'\u001b[0m\u001b[1;33m]\u001b[0m\u001b[1;33m[\u001b[0m\u001b[1;36m49526\u001b[0m\u001b[1;33m]\u001b[0m\u001b[1;33m\u001b[0m\u001b[1;33m\u001b[0m\u001b[0m\n\u001b[0m",
      "\u001b[1;32m~\\AppData\\Local\\Continuum\\anaconda3\\lib\\site-packages\\geopandas\\geoseries.py\u001b[0m in \u001b[0;36m__getitem__\u001b[1;34m(self, key)\u001b[0m\n\u001b[0;32m    137\u001b[0m \u001b[1;33m\u001b[0m\u001b[0m\n\u001b[0;32m    138\u001b[0m     \u001b[1;32mdef\u001b[0m \u001b[0m__getitem__\u001b[0m\u001b[1;33m(\u001b[0m\u001b[0mself\u001b[0m\u001b[1;33m,\u001b[0m \u001b[0mkey\u001b[0m\u001b[1;33m)\u001b[0m\u001b[1;33m:\u001b[0m\u001b[1;33m\u001b[0m\u001b[1;33m\u001b[0m\u001b[0m\n\u001b[1;32m--> 139\u001b[1;33m         \u001b[1;32mreturn\u001b[0m \u001b[0mself\u001b[0m\u001b[1;33m.\u001b[0m\u001b[0m_wrapped_pandas_method\u001b[0m\u001b[1;33m(\u001b[0m\u001b[1;34m'__getitem__'\u001b[0m\u001b[1;33m,\u001b[0m \u001b[0mkey\u001b[0m\u001b[1;33m)\u001b[0m\u001b[1;33m\u001b[0m\u001b[1;33m\u001b[0m\u001b[0m\n\u001b[0m\u001b[0;32m    140\u001b[0m \u001b[1;33m\u001b[0m\u001b[0m\n\u001b[0;32m    141\u001b[0m     \u001b[1;32mdef\u001b[0m \u001b[0msort_index\u001b[0m\u001b[1;33m(\u001b[0m\u001b[0mself\u001b[0m\u001b[1;33m,\u001b[0m \u001b[1;33m*\u001b[0m\u001b[0margs\u001b[0m\u001b[1;33m,\u001b[0m \u001b[1;33m**\u001b[0m\u001b[0mkwargs\u001b[0m\u001b[1;33m)\u001b[0m\u001b[1;33m:\u001b[0m\u001b[1;33m\u001b[0m\u001b[1;33m\u001b[0m\u001b[0m\n",
      "\u001b[1;32m~\\AppData\\Local\\Continuum\\anaconda3\\lib\\site-packages\\geopandas\\geoseries.py\u001b[0m in \u001b[0;36m_wrapped_pandas_method\u001b[1;34m(self, mtd, *args, **kwargs)\u001b[0m\n\u001b[0;32m    129\u001b[0m     \u001b[1;32mdef\u001b[0m \u001b[0m_wrapped_pandas_method\u001b[0m\u001b[1;33m(\u001b[0m\u001b[0mself\u001b[0m\u001b[1;33m,\u001b[0m \u001b[0mmtd\u001b[0m\u001b[1;33m,\u001b[0m \u001b[1;33m*\u001b[0m\u001b[0margs\u001b[0m\u001b[1;33m,\u001b[0m \u001b[1;33m**\u001b[0m\u001b[0mkwargs\u001b[0m\u001b[1;33m)\u001b[0m\u001b[1;33m:\u001b[0m\u001b[1;33m\u001b[0m\u001b[1;33m\u001b[0m\u001b[0m\n\u001b[0;32m    130\u001b[0m         \u001b[1;34m\"\"\"Wrap a generic pandas method to ensure it returns a GeoSeries\"\"\"\u001b[0m\u001b[1;33m\u001b[0m\u001b[1;33m\u001b[0m\u001b[0m\n\u001b[1;32m--> 131\u001b[1;33m         \u001b[0mval\u001b[0m \u001b[1;33m=\u001b[0m \u001b[0mgetattr\u001b[0m\u001b[1;33m(\u001b[0m\u001b[0msuper\u001b[0m\u001b[1;33m(\u001b[0m\u001b[0mGeoSeries\u001b[0m\u001b[1;33m,\u001b[0m \u001b[0mself\u001b[0m\u001b[1;33m)\u001b[0m\u001b[1;33m,\u001b[0m \u001b[0mmtd\u001b[0m\u001b[1;33m)\u001b[0m\u001b[1;33m(\u001b[0m\u001b[1;33m*\u001b[0m\u001b[0margs\u001b[0m\u001b[1;33m,\u001b[0m \u001b[1;33m**\u001b[0m\u001b[0mkwargs\u001b[0m\u001b[1;33m)\u001b[0m\u001b[1;33m\u001b[0m\u001b[1;33m\u001b[0m\u001b[0m\n\u001b[0m\u001b[0;32m    132\u001b[0m         \u001b[1;32mif\u001b[0m \u001b[0mtype\u001b[0m\u001b[1;33m(\u001b[0m\u001b[0mval\u001b[0m\u001b[1;33m)\u001b[0m \u001b[1;33m==\u001b[0m \u001b[0mSeries\u001b[0m\u001b[1;33m:\u001b[0m\u001b[1;33m\u001b[0m\u001b[1;33m\u001b[0m\u001b[0m\n\u001b[0;32m    133\u001b[0m             \u001b[0mval\u001b[0m\u001b[1;33m.\u001b[0m\u001b[0m__class__\u001b[0m \u001b[1;33m=\u001b[0m \u001b[0mGeoSeries\u001b[0m\u001b[1;33m\u001b[0m\u001b[1;33m\u001b[0m\u001b[0m\n",
      "\u001b[1;32m~\\AppData\\Local\\Continuum\\anaconda3\\lib\\site-packages\\pandas\\core\\series.py\u001b[0m in \u001b[0;36m__getitem__\u001b[1;34m(self, key)\u001b[0m\n\u001b[0;32m    866\u001b[0m         \u001b[0mkey\u001b[0m \u001b[1;33m=\u001b[0m \u001b[0mcom\u001b[0m\u001b[1;33m.\u001b[0m\u001b[0mapply_if_callable\u001b[0m\u001b[1;33m(\u001b[0m\u001b[0mkey\u001b[0m\u001b[1;33m,\u001b[0m \u001b[0mself\u001b[0m\u001b[1;33m)\u001b[0m\u001b[1;33m\u001b[0m\u001b[1;33m\u001b[0m\u001b[0m\n\u001b[0;32m    867\u001b[0m         \u001b[1;32mtry\u001b[0m\u001b[1;33m:\u001b[0m\u001b[1;33m\u001b[0m\u001b[1;33m\u001b[0m\u001b[0m\n\u001b[1;32m--> 868\u001b[1;33m             \u001b[0mresult\u001b[0m \u001b[1;33m=\u001b[0m \u001b[0mself\u001b[0m\u001b[1;33m.\u001b[0m\u001b[0mindex\u001b[0m\u001b[1;33m.\u001b[0m\u001b[0mget_value\u001b[0m\u001b[1;33m(\u001b[0m\u001b[0mself\u001b[0m\u001b[1;33m,\u001b[0m \u001b[0mkey\u001b[0m\u001b[1;33m)\u001b[0m\u001b[1;33m\u001b[0m\u001b[1;33m\u001b[0m\u001b[0m\n\u001b[0m\u001b[0;32m    869\u001b[0m \u001b[1;33m\u001b[0m\u001b[0m\n\u001b[0;32m    870\u001b[0m             \u001b[1;32mif\u001b[0m \u001b[1;32mnot\u001b[0m \u001b[0mis_scalar\u001b[0m\u001b[1;33m(\u001b[0m\u001b[0mresult\u001b[0m\u001b[1;33m)\u001b[0m\u001b[1;33m:\u001b[0m\u001b[1;33m\u001b[0m\u001b[1;33m\u001b[0m\u001b[0m\n",
      "\u001b[1;32m~\\AppData\\Local\\Continuum\\anaconda3\\lib\\site-packages\\pandas\\core\\indexes\\base.py\u001b[0m in \u001b[0;36mget_value\u001b[1;34m(self, series, key)\u001b[0m\n\u001b[0;32m   4373\u001b[0m         \u001b[1;32mtry\u001b[0m\u001b[1;33m:\u001b[0m\u001b[1;33m\u001b[0m\u001b[1;33m\u001b[0m\u001b[0m\n\u001b[0;32m   4374\u001b[0m             return self._engine.get_value(s, k,\n\u001b[1;32m-> 4375\u001b[1;33m                                           tz=getattr(series.dtype, 'tz', None))\n\u001b[0m\u001b[0;32m   4376\u001b[0m         \u001b[1;32mexcept\u001b[0m \u001b[0mKeyError\u001b[0m \u001b[1;32mas\u001b[0m \u001b[0me1\u001b[0m\u001b[1;33m:\u001b[0m\u001b[1;33m\u001b[0m\u001b[1;33m\u001b[0m\u001b[0m\n\u001b[0;32m   4377\u001b[0m             \u001b[1;32mif\u001b[0m \u001b[0mlen\u001b[0m\u001b[1;33m(\u001b[0m\u001b[0mself\u001b[0m\u001b[1;33m)\u001b[0m \u001b[1;33m>\u001b[0m \u001b[1;36m0\u001b[0m \u001b[1;32mand\u001b[0m \u001b[1;33m(\u001b[0m\u001b[0mself\u001b[0m\u001b[1;33m.\u001b[0m\u001b[0mholds_integer\u001b[0m\u001b[1;33m(\u001b[0m\u001b[1;33m)\u001b[0m \u001b[1;32mor\u001b[0m \u001b[0mself\u001b[0m\u001b[1;33m.\u001b[0m\u001b[0mis_boolean\u001b[0m\u001b[1;33m(\u001b[0m\u001b[1;33m)\u001b[0m\u001b[1;33m)\u001b[0m\u001b[1;33m:\u001b[0m\u001b[1;33m\u001b[0m\u001b[1;33m\u001b[0m\u001b[0m\n",
      "\u001b[1;32mpandas/_libs/index.pyx\u001b[0m in \u001b[0;36mpandas._libs.index.IndexEngine.get_value\u001b[1;34m()\u001b[0m\n",
      "\u001b[1;32mpandas/_libs/index.pyx\u001b[0m in \u001b[0;36mpandas._libs.index.IndexEngine.get_value\u001b[1;34m()\u001b[0m\n",
      "\u001b[1;32mpandas/_libs/index.pyx\u001b[0m in \u001b[0;36mpandas._libs.index.IndexEngine.get_loc\u001b[1;34m()\u001b[0m\n",
      "\u001b[1;32mpandas/_libs/hashtable_class_helper.pxi\u001b[0m in \u001b[0;36mpandas._libs.hashtable.Int64HashTable.get_item\u001b[1;34m()\u001b[0m\n",
      "\u001b[1;32mpandas/_libs/hashtable_class_helper.pxi\u001b[0m in \u001b[0;36mpandas._libs.hashtable.Int64HashTable.get_item\u001b[1;34m()\u001b[0m\n",
      "\u001b[1;31mKeyError\u001b[0m: 49526"
     ]
    }
   ],
   "source": [
    "one_basin['geometry'][49526]"
   ]
  },
  {
   "cell_type": "code",
   "execution_count": null,
   "metadata": {},
   "outputs": [],
   "source": []
  }
 ],
 "metadata": {
  "kernelspec": {
   "display_name": "Python 3",
   "language": "python",
   "name": "python3"
  },
  "language_info": {
   "codemirror_mode": {
    "name": "ipython",
    "version": 3
   },
   "file_extension": ".py",
   "mimetype": "text/x-python",
   "name": "python",
   "nbconvert_exporter": "python",
   "pygments_lexer": "ipython3",
   "version": "3.7.3"
  }
 },
 "nbformat": 4,
 "nbformat_minor": 2
}
